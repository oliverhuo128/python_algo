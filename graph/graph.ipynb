{
 "cells": [
  {
   "cell_type": "markdown",
   "metadata": {},
   "source": [
    "# Graph\n",
    "\n",
    "graph intro\n",
    "\n",
    "vertex or node, between them are edges and connections. graph theory, small graph, one vertex to another vertex you want to go the quickest route. No waited edges. "
   ]
  },
  {
   "cell_type": "code",
   "execution_count": 7,
   "metadata": {},
   "outputs": [
    {
     "name": "stdout",
     "output_type": "stream",
     "text": [
      "vertex already exists\n",
      "vertex already exists\n",
      "A : []\n",
      "B : []\n"
     ]
    },
    {
     "data": {
      "text/plain": [
       "'\\n    EXPECTED OUTPUT:\\n    ----------------\\n    A : []\\n\\n'"
      ]
     },
     "execution_count": 7,
     "metadata": {},
     "output_type": "execute_result"
    }
   ],
   "source": [
    "class Graph:\n",
    "    def __init__(self):\n",
    "        self.adj_list = {}\n",
    "\n",
    "    def print_graph(self):\n",
    "        for vertex in self.adj_list:\n",
    "            print(vertex, ':', self.adj_list[vertex])\n",
    "\n",
    "    def add_vertex(self, vertex):\n",
    "        if len(self.adj_list) == 0:\n",
    "            self.adj_list[vertex] = []\n",
    "        else:\n",
    "            if vertex not in self.adj_list:\n",
    "                self.adj_list[vertex] = []\n",
    "            else:\n",
    "                print('vertex already exists')\n",
    "                return False\n",
    "        return True\n",
    "\n",
    "my_graph = Graph()\n",
    "\n",
    "my_graph.add_vertex('A')\n",
    "my_graph.add_vertex('A')\n",
    "my_graph.add_vertex('B')\n",
    "my_graph.add_vertex('B')\n",
    "\n",
    "my_graph.print_graph()\n",
    "\n",
    "\n",
    "\n",
    "\"\"\"\n",
    "    EXPECTED OUTPUT:\n",
    "    ----------------\n",
    "    A : []\n",
    "\n",
    "\"\"\""
   ]
  },
  {
   "cell_type": "markdown",
   "metadata": {},
   "source": [
    "add edge method"
   ]
  },
  {
   "cell_type": "code",
   "execution_count": 10,
   "metadata": {},
   "outputs": [
    {
     "name": "stdout",
     "output_type": "stream",
     "text": [
      "1 : [2]\n",
      "2 : [1]\n"
     ]
    },
    {
     "data": {
      "text/plain": [
       "'\\n    EXPECTED OUTPUT:\\n    ----------------\\n    1 : [2]\\n    2 : [1]\\n\\n'"
      ]
     },
     "execution_count": 10,
     "metadata": {},
     "output_type": "execute_result"
    }
   ],
   "source": [
    "class Graph:\n",
    "    def __init__(self):\n",
    "        self.adj_list = {}\n",
    "\n",
    "    def print_graph(self):\n",
    "        v_list = []\n",
    "        for vertex in self.adj_list:\n",
    "            v_list.append(vertex)\n",
    "        v_list.sort()\n",
    "        for v in v_list:\n",
    "            print(v, ':', self.adj_list[v])\n",
    "\n",
    "    def add_vertex(self, vertex):\n",
    "        if vertex not in self.adj_list.keys():\n",
    "            self.adj_list[vertex] = []\n",
    "            return True\n",
    "        return False\n",
    "\n",
    "    def add_edge(self, v1, v2):\n",
    "        if v1 in self.adj_list:\n",
    "            if v2 in self.adj_list:\n",
    "                if (v2 not in self.adj_list[v1]) and (v1 not in self.adj_list[v2]):\n",
    "                    self.adj_list[v1].append(v2)\n",
    "                    self.adj_list[v2].append(v1)\n",
    "                    return True\n",
    "                else:\n",
    "                    return False\n",
    "            else:\n",
    "                return False\n",
    "        else:\n",
    "            return False\n",
    "\n",
    "\n",
    "\n",
    "\n",
    "my_graph = Graph()\n",
    "\n",
    "my_graph.add_vertex(1)\n",
    "my_graph.add_vertex(2)\n",
    "\n",
    "my_graph.add_edge(1,2)\n",
    "\n",
    "my_graph.print_graph()\n",
    "\n",
    "\n",
    "\n",
    "\"\"\"\n",
    "    EXPECTED OUTPUT:\n",
    "    ----------------\n",
    "    1 : [2]\n",
    "    2 : [1]\n",
    "\n",
    "\"\"\""
   ]
  },
  {
   "cell_type": "markdown",
   "metadata": {},
   "source": [
    "remove edge"
   ]
  },
  {
   "cell_type": "code",
   "execution_count": 16,
   "metadata": {},
   "outputs": [
    {
     "name": "stdout",
     "output_type": "stream",
     "text": [
      "Graph before remove_edge():\n",
      "A : ['B', 'C']\n",
      "B : ['A', 'C']\n",
      "C : ['B', 'A']\n",
      "\n",
      "Graph after remove_edge():\n",
      "A : ['B']\n",
      "B : ['A', 'C']\n",
      "C : ['B']\n"
     ]
    },
    {
     "data": {
      "text/plain": [
       "\"\\n    EXPECTED OUTPUT:\\n    ----------------\\n    Graph before remove_edge():\\n    A : ['B', 'C']\\n    B : ['A', 'C']\\n    C : ['B', 'A']\\n\\n    Graph after remove_edge():\\n    A : ['B']\\n    B : ['A', 'C']\\n    C : ['B']\\n    \\n\""
      ]
     },
     "execution_count": 16,
     "metadata": {},
     "output_type": "execute_result"
    }
   ],
   "source": [
    "class Graph:\n",
    "    def __init__(self):\n",
    "        self.adj_list = {}\n",
    "\n",
    "    def print_graph(self):\n",
    "        v_list = []\n",
    "        for vertex in self.adj_list:\n",
    "            v_list.append(vertex)\n",
    "        v_list.sort()\n",
    "        for v in v_list:\n",
    "            print(v, ':', self.adj_list[v])\n",
    "\n",
    "    def add_vertex(self, vertex):\n",
    "        if vertex not in self.adj_list.keys():\n",
    "            self.adj_list[vertex] = []\n",
    "            return True\n",
    "        return False\n",
    "\n",
    "    def add_edge(self, v1, v2):\n",
    "        if v1 in self.adj_list.keys() and v2 in self.adj_list.keys():\n",
    "            self.adj_list[v1].append(v2)\n",
    "            self.adj_list[v2].append(v1)\n",
    "            return True\n",
    "        return False\n",
    "\n",
    "    def remove_edge(self, v1, v2):\n",
    "        if (v1 not in self.adj_list.keys()):\n",
    "            return False\n",
    "        if (v2 not in self.adj_list.keys()):\n",
    "            return False\n",
    "        if (v2 not in self.adj_list[v1]) or (v1 not in self.adj_list[v2]):\n",
    "            return False\n",
    "        self.adj_list[v1].remove(v2)\n",
    "        self.adj_list[v2].remove(v1)\n",
    "        return True\n",
    "\n",
    "\n",
    "\n",
    "\n",
    "my_graph = Graph()\n",
    "my_graph.add_vertex('A')\n",
    "my_graph.add_vertex('B')\n",
    "my_graph.add_vertex('C')\n",
    "\n",
    "my_graph.add_edge('A','B')\n",
    "my_graph.add_edge('B','C')\n",
    "my_graph.add_edge('C','A')\n",
    "\n",
    "print('Graph before remove_edge():')\n",
    "my_graph.print_graph()\n",
    "\n",
    "\n",
    "my_graph.remove_edge('A','C')\n",
    "\n",
    "\n",
    "print('\\nGraph after remove_edge():')\n",
    "my_graph.print_graph()\n",
    "\n",
    "\n",
    "\n",
    "\"\"\"\n",
    "    EXPECTED OUTPUT:\n",
    "    ----------------\n",
    "    Graph before remove_edge():\n",
    "    A : ['B', 'C']\n",
    "    B : ['A', 'C']\n",
    "    C : ['B', 'A']\n",
    "\n",
    "    Graph after remove_edge():\n",
    "    A : ['B']\n",
    "    B : ['A', 'C']\n",
    "    C : ['B']\n",
    "    \n",
    "\"\"\""
   ]
  },
  {
   "cell_type": "markdown",
   "metadata": {},
   "source": [
    "remove vertex"
   ]
  },
  {
   "cell_type": "code",
   "execution_count": 18,
   "metadata": {},
   "outputs": [
    {
     "name": "stdout",
     "output_type": "stream",
     "text": [
      "Graph before remove_vertex():\n",
      "A : ['B', 'C', 'D']\n",
      "B : ['A', 'D']\n",
      "C : ['A', 'D']\n",
      "D : ['A', 'B', 'C']\n",
      "\n",
      "Graph after remove_vertex():\n",
      "A : ['B', 'C']\n",
      "B : ['A']\n",
      "C : ['A']\n"
     ]
    },
    {
     "data": {
      "text/plain": [
       "\"\\n    EXPECTED OUTPUT:\\n    ----------------\\n    Graph before remove_vertex():\\n    A : ['B', 'C', 'D']\\n    B : ['A', 'D']\\n    C : ['A', 'D']\\n    D : ['A', 'B', 'C']\\n\\n    Graph after remove_vertex():\\n    A : ['B', 'C']\\n    B : ['A']\\n    C : ['A']\\n\\n\""
      ]
     },
     "execution_count": 18,
     "metadata": {},
     "output_type": "execute_result"
    }
   ],
   "source": [
    "class Graph:\n",
    "    def __init__(self):\n",
    "        self.adj_list = {}\n",
    "\n",
    "    def print_graph(self):\n",
    "        v_list = []\n",
    "        for vertex in self.adj_list:\n",
    "            v_list.append(vertex)\n",
    "        v_list.sort()\n",
    "        for v in v_list:\n",
    "            print(v, ':', self.adj_list[v])\n",
    "\n",
    "    def add_vertex(self, vertex):\n",
    "        if vertex not in self.adj_list.keys():\n",
    "            self.adj_list[vertex] = []\n",
    "            return True\n",
    "        return False\n",
    "\n",
    "    def add_edge(self, v1, v2):\n",
    "        if v1 in self.adj_list.keys() and v2 in self.adj_list.keys():\n",
    "            self.adj_list[v1].append(v2)\n",
    "            self.adj_list[v2].append(v1)\n",
    "            return True\n",
    "        return False\n",
    "\n",
    "    def remove_edge(self, v1, v2):\n",
    "        if v1 in self.adj_list.keys() and v2 in self.adj_list.keys(): \n",
    "            try:\n",
    "                self.adj_list[v1].remove(v2)\n",
    "                self.adj_list[v2].remove(v1)\n",
    "            except ValueError:\n",
    "                pass\n",
    "            return True\n",
    "        return False\n",
    "\n",
    "    def remove_vertex(self, v):\n",
    "        if v in self.adj_list:\n",
    "            remove_v = self.adj_list[v]\n",
    "            for a in remove_v:\n",
    "                self.adj_list[a].remove(v)\n",
    "            del self.adj_list[v]\n",
    "            return True\n",
    "        else:\n",
    "            return False\n",
    "            \n",
    "\n",
    "\n",
    "\n",
    "\n",
    "my_graph = Graph()\n",
    "my_graph.add_vertex('A')\n",
    "my_graph.add_vertex('B')\n",
    "my_graph.add_vertex('C')\n",
    "my_graph.add_vertex('D')\n",
    "\n",
    "my_graph.add_edge('A','B')\n",
    "my_graph.add_edge('A','C')\n",
    "my_graph.add_edge('A','D')\n",
    "my_graph.add_edge('B','D')\n",
    "my_graph.add_edge('C','D')\n",
    "\n",
    "\n",
    "print('Graph before remove_vertex():')\n",
    "my_graph.print_graph()\n",
    "\n",
    "\n",
    "my_graph.remove_vertex('D')\n",
    "\n",
    "\n",
    "print('\\nGraph after remove_vertex():')\n",
    "my_graph.print_graph()\n",
    "\n",
    "\n",
    "\n",
    "\"\"\"\n",
    "    EXPECTED OUTPUT:\n",
    "    ----------------\n",
    "    Graph before remove_vertex():\n",
    "    A : ['B', 'C', 'D']\n",
    "    B : ['A', 'D']\n",
    "    C : ['A', 'D']\n",
    "    D : ['A', 'B', 'C']\n",
    "\n",
    "    Graph after remove_vertex():\n",
    "    A : ['B', 'C']\n",
    "    B : ['A']\n",
    "    C : ['A']\n",
    "\n",
    "\"\"\""
   ]
  }
 ],
 "metadata": {
  "kernelspec": {
   "display_name": "Python 3",
   "language": "python",
   "name": "python3"
  },
  "language_info": {
   "codemirror_mode": {
    "name": "ipython",
    "version": 3
   },
   "file_extension": ".py",
   "mimetype": "text/x-python",
   "name": "python",
   "nbconvert_exporter": "python",
   "pygments_lexer": "ipython3",
   "version": "3.10.12"
  }
 },
 "nbformat": 4,
 "nbformat_minor": 2
}
