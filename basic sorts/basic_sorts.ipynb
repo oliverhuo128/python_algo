{
 "cells": [
  {
   "cell_type": "markdown",
   "metadata": {},
   "source": [
    "# Basic Sorts"
   ]
  },
  {
   "cell_type": "code",
   "execution_count": 9,
   "metadata": {},
   "outputs": [
    {
     "name": "stdout",
     "output_type": "stream",
     "text": [
      "[1, 2, 3, 4, 5, 6]\n"
     ]
    },
    {
     "data": {
      "text/plain": [
       "'\\n    EXPECTED OUTPUT:\\n    ----------------\\n    [1, 2, 3, 4, 5, 6]\\n    \\n '"
      ]
     },
     "execution_count": 9,
     "metadata": {},
     "output_type": "execute_result"
    }
   ],
   "source": [
    "def bubble_sort(list1):\n",
    "    length = len(list1)\n",
    "    while (length-1) != 0:\n",
    "        for a in range(length-1):\n",
    "            # print(a)\n",
    "            if list1[a] > list1[a+1]:\n",
    "                switch = list1[a+1]\n",
    "                list1[a+1] = list1[a]\n",
    "                list1[a] = switch\n",
    "        # print(list1)\n",
    "        length -= 1\n",
    "    return list1\n",
    "\n",
    "\n",
    "\n",
    "print(bubble_sort([4,2,6,5,1,3]))\n",
    "\n",
    " \n",
    " \n",
    "\"\"\"\n",
    "    EXPECTED OUTPUT:\n",
    "    ----------------\n",
    "    [1, 2, 3, 4, 5, 6]\n",
    "    \n",
    " \"\"\""
   ]
  },
  {
   "cell_type": "markdown",
   "metadata": {},
   "source": [
    "# Selection sort"
   ]
  },
  {
   "cell_type": "code",
   "execution_count": 12,
   "metadata": {},
   "outputs": [
    {
     "name": "stdout",
     "output_type": "stream",
     "text": [
      "0\n",
      "1\n",
      "2\n",
      "3\n",
      "4\n",
      "None\n"
     ]
    },
    {
     "data": {
      "text/plain": [
       "'\\n    EXPECTED OUTPUT:\\n    ----------------\\n    [1, 2, 3, 4, 5, 6]\\n    \\n '"
      ]
     },
     "execution_count": 12,
     "metadata": {},
     "output_type": "execute_result"
    }
   ],
   "source": [
    "def selection_sort(list1):\n",
    "    min_index = 0\n",
    "    o_min_index = 0\n",
    "    iterate_range = len(list1)\n",
    "    iter = 1\n",
    "    while iter != len(list1):\n",
    "        for a in range(1, iterate_range):\n",
    "            min_value = list1[min_index]\n",
    "            if min_value > list1[a]:\n",
    "                min_index = a\n",
    "        \n",
    "\n",
    "\n",
    "\n",
    "\n",
    "print(selection_sort([4,2,6,5,1,3]))\n",
    "\n",
    "\n",
    " \n",
    "\"\"\"\n",
    "    EXPECTED OUTPUT:\n",
    "    ----------------\n",
    "    [1, 2, 3, 4, 5, 6]\n",
    "    \n",
    " \"\"\"\n"
   ]
  }
 ],
 "metadata": {
  "kernelspec": {
   "display_name": "Python 3",
   "language": "python",
   "name": "python3"
  },
  "language_info": {
   "codemirror_mode": {
    "name": "ipython",
    "version": 3
   },
   "file_extension": ".py",
   "mimetype": "text/x-python",
   "name": "python",
   "nbconvert_exporter": "python",
   "pygments_lexer": "ipython3",
   "version": "3.10.12"
  }
 },
 "nbformat": 4,
 "nbformat_minor": 2
}
