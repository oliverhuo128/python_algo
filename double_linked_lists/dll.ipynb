{
 "cells": [
  {
   "cell_type": "code",
   "execution_count": 1,
   "metadata": {},
   "outputs": [
    {
     "name": "stdout",
     "output_type": "stream",
     "text": [
      "hello world\n"
     ]
    }
   ],
   "source": [
    "print('hello world')"
   ]
  },
  {
   "cell_type": "markdown",
   "metadata": {},
   "source": [
    "# Constructor\n"
   ]
  },
  {
   "cell_type": "code",
   "execution_count": 3,
   "metadata": {},
   "outputs": [
    {
     "name": "stdout",
     "output_type": "stream",
     "text": [
      "Head: 7\n",
      "Tail: 7\n",
      "Length: 1\n"
     ]
    },
    {
     "data": {
      "text/plain": [
       "'\\n    EXPECTED OUTPUT:\\n    ----------------\\n    Head: 7\\n    Tail: 7\\n    Length: 1\\n\\n'"
      ]
     },
     "execution_count": 3,
     "metadata": {},
     "output_type": "execute_result"
    }
   ],
   "source": [
    "class Node:\n",
    "    def __init__(self, value):\n",
    "        self.value = value\n",
    "        self.next = None\n",
    "        self.prev = None\n",
    "        \n",
    "        \n",
    "class DoublyLinkedList:\n",
    "    def __init__(self, value):\n",
    "        new_node = Node(value)\n",
    "        self.head = new_node\n",
    "        self.tail = new_node\n",
    "        self.length = 1\n",
    "\n",
    "\n",
    "\n",
    "my_doubly_linked_list = DoublyLinkedList(7)\n",
    "\n",
    "print('Head:', my_doubly_linked_list.head.value)\n",
    "print('Tail:', my_doubly_linked_list.tail.value)\n",
    "print('Length:', my_doubly_linked_list.length)\n",
    "\n",
    "\n",
    "\n",
    "\"\"\"\n",
    "    EXPECTED OUTPUT:\n",
    "    ----------------\n",
    "    Head: 7\n",
    "    Tail: 7\n",
    "    Length: 1\n",
    "\n",
    "\"\"\"\n"
   ]
  },
  {
   "cell_type": "markdown",
   "metadata": {},
   "source": [
    "# Append"
   ]
  },
  {
   "cell_type": "code",
   "execution_count": 7,
   "metadata": {},
   "outputs": [
    {
     "name": "stdout",
     "output_type": "stream",
     "text": [
      "Head: 1\n",
      "Tail: 2\n",
      "Length: 2 \n",
      "\n",
      "Doubly Linked List:\n",
      "1\n",
      "2\n"
     ]
    },
    {
     "data": {
      "text/plain": [
       "'\\n    EXPECTED OUTPUT:\\n    ----------------\\n    Head: 1\\n    Tail: 2\\n    Length: 2 \\n\\n    Doubly Linked List:\\n    1\\n    2\\n    \\n'"
      ]
     },
     "execution_count": 7,
     "metadata": {},
     "output_type": "execute_result"
    }
   ],
   "source": [
    "class Node:\n",
    "    def __init__(self, value):\n",
    "        self.value = value\n",
    "        self.next = None\n",
    "        self.prev = None\n",
    "        \n",
    "\n",
    "class DoublyLinkedList:\n",
    "    def __init__(self, value):\n",
    "        new_node = Node(value)\n",
    "        self.head = new_node\n",
    "        self.tail = new_node\n",
    "        self.length = 1\n",
    "\n",
    "    def print_list(self):\n",
    "        temp = self.head\n",
    "        while temp is not None:\n",
    "            print(temp.value)\n",
    "            temp = temp.next\n",
    "        \n",
    "    def append(self, value):\n",
    "        new_node = Node(value)\n",
    "        if self.length == 0:\n",
    "            self.head = new_node\n",
    "            self.tail = new_node\n",
    "        else:\n",
    "            new_node.prev = self.tail\n",
    "            self.tail.next = new_node\n",
    "            self.tail = new_node\n",
    "        self.length = self.length + 1\n",
    "        return True\n",
    "\n",
    "\n",
    "\n",
    "\n",
    "my_doubly_linked_list = DoublyLinkedList(1)\n",
    "my_doubly_linked_list.append(2)\n",
    "\n",
    "\n",
    "print('Head:', my_doubly_linked_list.head.value)\n",
    "print('Tail:', my_doubly_linked_list.tail.value)\n",
    "print('Length:', my_doubly_linked_list.length, '\\n')\n",
    "\n",
    "print('Doubly Linked List:')\n",
    "my_doubly_linked_list.print_list()\n",
    "\n",
    "\n",
    "\n",
    "\"\"\"\n",
    "    EXPECTED OUTPUT:\n",
    "    ----------------\n",
    "    Head: 1\n",
    "    Tail: 2\n",
    "    Length: 2 \n",
    "\n",
    "    Doubly Linked List:\n",
    "    1\n",
    "    2\n",
    "    \n",
    "\"\"\"\n"
   ]
  },
  {
   "cell_type": "markdown",
   "metadata": {},
   "source": [
    "# Pop"
   ]
  },
  {
   "cell_type": "code",
   "execution_count": 8,
   "metadata": {},
   "outputs": [
    {
     "name": "stdout",
     "output_type": "stream",
     "text": [
      "2\n",
      "1\n",
      "None\n"
     ]
    },
    {
     "data": {
      "text/plain": [
       "'\\n    EXPECTED OUTPUT:\\n    ----------------\\n    2\\n    1\\n    None\\n\\n'"
      ]
     },
     "execution_count": 8,
     "metadata": {},
     "output_type": "execute_result"
    }
   ],
   "source": [
    "class Node:\n",
    "    def __init__(self, value):\n",
    "        self.value = value\n",
    "        self.next = None\n",
    "        self.prev = None\n",
    "        \n",
    "\n",
    "class DoublyLinkedList:\n",
    "    def __init__(self, value):\n",
    "        new_node = Node(value)\n",
    "        self.head = new_node\n",
    "        self.tail = new_node\n",
    "        self.length = 1\n",
    "\n",
    "    def print_list(self):\n",
    "        temp = self.head\n",
    "        while temp is not None:\n",
    "            print(temp.value)\n",
    "            temp = temp.next\n",
    "        \n",
    "    def append(self, value):\n",
    "        new_node = Node(value)\n",
    "        if self.head is None:\n",
    "            self.head = new_node\n",
    "            self.tail = new_node\n",
    "        else:\n",
    "            self.tail.next = new_node\n",
    "            new_node.prev = self.tail\n",
    "            self.tail = new_node\n",
    "        self.length += 1\n",
    "        return True\n",
    "\n",
    "    def pop(self):\n",
    "        if self.head is None:\n",
    "            self.head = None\n",
    "            self.tail = None\n",
    "            self.length = 0\n",
    "            return None\n",
    "        elif self.length == 1:\n",
    "            node = None\n",
    "            node = self.head\n",
    "            self.head = None\n",
    "            self.tail = None\n",
    "            self.length = 0\n",
    "            return node\n",
    "        else:\n",
    "            pointer = self.tail\n",
    "            self.tail = self.tail.prev\n",
    "            self.tail.next = None\n",
    "            pointer.prev = None\n",
    "            self.length = self.length - 1\n",
    "            return pointer\n",
    "        \n",
    "\n",
    "\n",
    "\n",
    "my_doubly_linked_list = DoublyLinkedList(1)\n",
    "my_doubly_linked_list.append(2)\n",
    "\n",
    "\n",
    "# (2) Items - Returns 2 Node\n",
    "print(my_doubly_linked_list.pop().value)\n",
    "# (1) Item -  Returns 1 Node\n",
    "print(my_doubly_linked_list.pop().value)\n",
    "# (0) Items - Returns None\n",
    "print(my_doubly_linked_list.pop())\n",
    "\n",
    "\n",
    "\n",
    "\"\"\"\n",
    "    EXPECTED OUTPUT:\n",
    "    ----------------\n",
    "    2\n",
    "    1\n",
    "    None\n",
    "\n",
    "\"\"\""
   ]
  },
  {
   "cell_type": "markdown",
   "metadata": {},
   "source": [
    "# Prepend"
   ]
  },
  {
   "cell_type": "code",
   "execution_count": 10,
   "metadata": {},
   "outputs": [
    {
     "name": "stdout",
     "output_type": "stream",
     "text": [
      "Before prepend():\n",
      "----------------\n",
      "Head: 2\n",
      "Tail: 3\n",
      "Length: 2 \n",
      "\n",
      "Doubly Linked List:\n",
      "2\n",
      "3\n",
      "\n",
      "\n",
      "After prepend():\n",
      "---------------\n",
      "Head: 1\n",
      "Tail: 3\n",
      "Length: 3 \n",
      "\n",
      "Doubly Linked List:\n",
      "1\n",
      "2\n",
      "3\n"
     ]
    },
    {
     "data": {
      "text/plain": [
       "'\\n    EXPECTED OUTPUT:\\n    \\n    Before prepend():\\n    ----------------\\n    Head: 2\\n    Tail: 3\\n    Length: 2 \\n\\n    Doubly Linked List:\\n    2\\n    3\\n\\n\\n    After prepend():\\n    ---------------\\n    Head: 1\\n    Tail: 3\\n    Length: 3 \\n\\n    Doubly Linked List:\\n    1\\n    2\\n    3\\n\\n'"
      ]
     },
     "execution_count": 10,
     "metadata": {},
     "output_type": "execute_result"
    }
   ],
   "source": [
    "class Node:\n",
    "    def __init__(self, value):\n",
    "        self.value = value\n",
    "        self.next = None\n",
    "        self.prev = None\n",
    "        \n",
    "\n",
    "class DoublyLinkedList:\n",
    "    def __init__(self, value):\n",
    "        new_node = Node(value)\n",
    "        self.head = new_node\n",
    "        self.tail = new_node\n",
    "        self.length = 1\n",
    "\n",
    "    def print_list(self):\n",
    "        temp = self.head\n",
    "        while temp is not None:\n",
    "            print(temp.value)\n",
    "            temp = temp.next\n",
    "        \n",
    "    def append(self, value):\n",
    "        new_node = Node(value)\n",
    "        if self.head is None:\n",
    "            self.head = new_node\n",
    "            self.tail = new_node\n",
    "        else:\n",
    "            self.tail.next = new_node\n",
    "            new_node.prev = self.tail\n",
    "            self.tail = new_node\n",
    "        self.length += 1\n",
    "        return True\n",
    "\n",
    "    def pop(self):\n",
    "        if self.length == 0:\n",
    "            return None\n",
    "        temp = self.tail\n",
    "        if self.length == 1:\n",
    "            self.head = None\n",
    "            self.tail = None \n",
    "        else:       \n",
    "            self.tail = self.tail.prev\n",
    "            self.tail.next = None\n",
    "            temp.prev = None\n",
    "        self.length -= 1\n",
    "        return temp\n",
    "\n",
    "    def prepend(self, value):\n",
    "        new_node = Node(value)\n",
    "        if self.length == 0:\n",
    "            self.head = new_node\n",
    "            self.tail = new_node\n",
    "            self.length = 1\n",
    "        else:\n",
    "            self.head.prev = new_node\n",
    "            new_node.next = self.head\n",
    "            self.head = new_node\n",
    "            self.length = self.length + 1\n",
    "        return True\n",
    "\n",
    "\n",
    "\n",
    "my_doubly_linked_list = DoublyLinkedList(2)\n",
    "my_doubly_linked_list.append(3)\n",
    "\n",
    "print('Before prepend():')\n",
    "print('----------------')\n",
    "print('Head:', my_doubly_linked_list.head.value)\n",
    "print('Tail:', my_doubly_linked_list.tail.value)\n",
    "print('Length:', my_doubly_linked_list.length, '\\n')\n",
    "print('Doubly Linked List:')\n",
    "my_doubly_linked_list.print_list()\n",
    "\n",
    "\n",
    "my_doubly_linked_list.prepend(1)\n",
    "\n",
    "\n",
    "print('\\n\\nAfter prepend():')\n",
    "print('---------------')\n",
    "print('Head:', my_doubly_linked_list.head.value)\n",
    "print('Tail:', my_doubly_linked_list.tail.value)\n",
    "print('Length:', my_doubly_linked_list.length, '\\n')\n",
    "print('Doubly Linked List:')\n",
    "my_doubly_linked_list.print_list()\n",
    "\n",
    "\n",
    "\n",
    "\"\"\"\n",
    "    EXPECTED OUTPUT:\n",
    "    \n",
    "    Before prepend():\n",
    "    ----------------\n",
    "    Head: 2\n",
    "    Tail: 3\n",
    "    Length: 2 \n",
    "\n",
    "    Doubly Linked List:\n",
    "    2\n",
    "    3\n",
    "\n",
    "\n",
    "    After prepend():\n",
    "    ---------------\n",
    "    Head: 1\n",
    "    Tail: 3\n",
    "    Length: 3 \n",
    "\n",
    "    Doubly Linked List:\n",
    "    1\n",
    "    2\n",
    "    3\n",
    "\n",
    "\"\"\""
   ]
  },
  {
   "cell_type": "code",
   "execution_count": 11,
   "metadata": {},
   "outputs": [
    {
     "name": "stdout",
     "output_type": "stream",
     "text": [
      "125230844989104\n",
      "125230844988592\n",
      "4894428612150778243\n",
      "4894428612150778243\n"
     ]
    }
   ],
   "source": [
    "a = 'hello there'\n",
    "b = 'hello there'\n",
    "\n",
    "print(id(a))\n",
    "print(id(b))\n",
    "print(hash(a))\n",
    "print(hash(b))"
   ]
  }
 ],
 "metadata": {
  "kernelspec": {
   "display_name": "Python 3",
   "language": "python",
   "name": "python3"
  },
  "language_info": {
   "codemirror_mode": {
    "name": "ipython",
    "version": 3
   },
   "file_extension": ".py",
   "mimetype": "text/x-python",
   "name": "python",
   "nbconvert_exporter": "python",
   "pygments_lexer": "ipython3",
   "version": "3.10.12"
  }
 },
 "nbformat": 4,
 "nbformat_minor": 2
}
