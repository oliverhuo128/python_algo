{
 "cells": [
  {
   "cell_type": "markdown",
   "metadata": {},
   "source": [
    "# Stack Intro"
   ]
  },
  {
   "cell_type": "markdown",
   "metadata": {},
   "source": [
    "a can of tennis balls,\n",
    "\n",
    "pushing things on a stack, you can only get  the thing on the last item, just imagine a stack of tennis balls\n",
    "\n",
    "LIFO last in first out,\n",
    "\n",
    "- imagine the back item of a web browser\n",
    "\n",
    "We can use a list, we can use the list, it's O(1), rather than the first end. if you are going to use a list you need to use the write end.\n",
    "The simplest way to use a stack would be a linked list."
   ]
  },
  {
   "cell_type": "code",
   "execution_count": 2,
   "metadata": {},
   "outputs": [],
   "source": [
    "class Node():\n",
    "    def __init__(self, value):\n",
    "        self.value = value\n",
    "        self.next = None\n",
    "        \n",
    "class Stack():\n",
    "    def __init__(self, value):\n",
    "        new_node = Node(value)\n",
    "        self.top = new_node\n",
    "        self.height = 1\n",
    "        \n",
    "    def print_stack(self):\n",
    "        pointer = self.top\n",
    "        while pointer is not None:\n",
    "            print(pointer.value)\n",
    "            self.pointer = self.pointer.next"
   ]
  },
  {
   "cell_type": "markdown",
   "metadata": {},
   "source": [
    "# stack:push"
   ]
  },
  {
   "cell_type": "code",
   "execution_count": 4,
   "metadata": {},
   "outputs": [
    {
     "name": "stdout",
     "output_type": "stream",
     "text": [
      "Stack before push(1):\n",
      "2\n",
      "\n",
      "Stack after push(1):\n",
      "1\n",
      "2\n"
     ]
    },
    {
     "data": {
      "text/plain": [
       "'\\n    EXPECTED OUTPUT:\\n    ----------------\\n    Stack before push(1):\\n    2\\n\\n    Stack after push(1):\\n    1\\n    2   \\n\\n'"
      ]
     },
     "execution_count": 4,
     "metadata": {},
     "output_type": "execute_result"
    }
   ],
   "source": [
    "class Node:\n",
    "    def __init__(self, value):\n",
    "        self.value = value\n",
    "        self.next = None\n",
    "        \n",
    "\n",
    "class Stack:\n",
    "    def __init__(self, value):\n",
    "        new_node = Node(value)\n",
    "        self.top = new_node\n",
    "        self.height = 1\n",
    "\n",
    "    def print_stack(self):\n",
    "        temp = self.top\n",
    "        while temp is not None:\n",
    "            print(temp.value)\n",
    "            temp = temp.next\n",
    "\n",
    "    def push(self, value):\n",
    "        node = Node(value)\n",
    "        if self.height == 0:\n",
    "            self.height = 1\n",
    "            self.top = node\n",
    "            return\n",
    "        else:\n",
    "            node.next = self.top\n",
    "            self.top = node\n",
    "            self.height += 1\n",
    "            return\n",
    "\n",
    "\n",
    "\n",
    "my_stack = Stack(2)\n",
    "\n",
    "print('Stack before push(1):')\n",
    "my_stack.print_stack()\n",
    "\n",
    "my_stack.push(1)\n",
    "\n",
    "print('\\nStack after push(1):')\n",
    "my_stack.print_stack()\n",
    "\n",
    "\n",
    "\n",
    "\"\"\"\n",
    "    EXPECTED OUTPUT:\n",
    "    ----------------\n",
    "    Stack before push(1):\n",
    "    2\n",
    "\n",
    "    Stack after push(1):\n",
    "    1\n",
    "    2   \n",
    "\n",
    "\"\"\"\n"
   ]
  },
  {
   "cell_type": "markdown",
   "metadata": {},
   "source": [
    "# stack : pop"
   ]
  },
  {
   "cell_type": "code",
   "execution_count": 6,
   "metadata": {},
   "outputs": [
    {
     "name": "stdout",
     "output_type": "stream",
     "text": [
      "Stack before pop():\n",
      "1\n",
      "2\n",
      "3\n",
      "4\n",
      "\n",
      "Popped node:\n",
      "1\n",
      "\n",
      "Stack after pop():\n",
      "2\n",
      "3\n",
      "4\n"
     ]
    },
    {
     "data": {
      "text/plain": [
       "'\\n    EXPECTED OUTPUT:\\n    ----------------\\n    Stack before pop():\\n    1\\n    2\\n    3\\n    4\\n\\n    Popped node:\\n    1\\n\\n    Stack after pop():\\n    2\\n    3\\n    4\\n\\n'"
      ]
     },
     "execution_count": 6,
     "metadata": {},
     "output_type": "execute_result"
    }
   ],
   "source": [
    "class Node:\n",
    "    def __init__(self, value):\n",
    "        self.value = value\n",
    "        self.next = None\n",
    "        \n",
    "\n",
    "class Stack:\n",
    "    def __init__(self, value):\n",
    "        new_node = Node(value)\n",
    "        self.top = new_node\n",
    "        self.height = 1\n",
    "\n",
    "    def print_stack(self):\n",
    "        temp = self.top\n",
    "        while temp is not None:\n",
    "            print(temp.value)\n",
    "            temp = temp.next\n",
    "\n",
    "    def push(self, value):\n",
    "        new_node = Node(value)\n",
    "        if self.height == 0:\n",
    "            self.top = new_node\n",
    "        else:\n",
    "            new_node.next = self.top\n",
    "            self.top = new_node\n",
    "        self.height += 1\n",
    "        return True\n",
    "\n",
    "    def pop(self):\n",
    "        if self.height == 0:\n",
    "            return None\n",
    "        else:\n",
    "            node = self.top\n",
    "            self.top = self.top.next\n",
    "            node.next = None\n",
    "            self.height -= 1\n",
    "            return node\n",
    "\n",
    "\n",
    "\n",
    "\n",
    "my_stack = Stack(4)\n",
    "my_stack.push(3)\n",
    "my_stack.push(2)\n",
    "my_stack.push(1)\n",
    "\n",
    "print('Stack before pop():')\n",
    "my_stack.print_stack()\n",
    "\n",
    "print('\\nPopped node:')\n",
    "print(my_stack.pop().value)\n",
    "\n",
    "print('\\nStack after pop():')\n",
    "my_stack.print_stack()\n",
    "\n",
    "\n",
    "\n",
    "\"\"\"\n",
    "    EXPECTED OUTPUT:\n",
    "    ----------------\n",
    "    Stack before pop():\n",
    "    1\n",
    "    2\n",
    "    3\n",
    "    4\n",
    "\n",
    "    Popped node:\n",
    "    1\n",
    "\n",
    "    Stack after pop():\n",
    "    2\n",
    "    3\n",
    "    4\n",
    "\n",
    "\"\"\""
   ]
  },
  {
   "cell_type": "markdown",
   "metadata": {},
   "source": [
    "# queues"
   ]
  },
  {
   "cell_type": "markdown",
   "metadata": {},
   "source": [
    "FIFO, we join a queue when we get in a line, if you were there first, you will get out first\n",
    "\n",
    "enqueue\n",
    "dequeue\n",
    "\n",
    "\n"
   ]
  },
  {
   "cell_type": "code",
   "execution_count": 12,
   "metadata": {},
   "outputs": [
    {
     "name": "stdout",
     "output_type": "stream",
     "text": [
      "4\n"
     ]
    }
   ],
   "source": [
    "class Node:\n",
    "    def __init__(self, value):\n",
    "        self.value = value\n",
    "        self.next = None\n",
    "        \n",
    "class Queue:\n",
    "    def __init__(self, value):\n",
    "        new_node = Node(value)\n",
    "        self.first = new_node\n",
    "        self.last = new_node\n",
    "        self.length = 1\n",
    "        \n",
    "    def print_queue(self):\n",
    "        pointer = self.first\n",
    "        while pointer is not None:\n",
    "            print(pointer.value)\n",
    "            pointer = pointer.next\n",
    "            \n",
    "my_queue = Queue(4)\n",
    "\n",
    "my_queue.print_queue()"
   ]
  },
  {
   "cell_type": "markdown",
   "metadata": {},
   "source": [
    "# enqueue"
   ]
  },
  {
   "cell_type": "code",
   "execution_count": 13,
   "metadata": {},
   "outputs": [
    {
     "name": "stdout",
     "output_type": "stream",
     "text": [
      "Queue before enqueue(2):\n",
      "1\n",
      "\n",
      "Queue after enqueue(2):\n",
      "1\n",
      "2\n"
     ]
    },
    {
     "data": {
      "text/plain": [
       "'\\n    EXPECTED OUTPUT:\\n    ----------------\\n    Queue before enqueue(2):\\n    1\\n\\n    Queue after enqueue(2):\\n    1\\n    2\\n\\n'"
      ]
     },
     "execution_count": 13,
     "metadata": {},
     "output_type": "execute_result"
    }
   ],
   "source": [
    "class Node:\n",
    "    def __init__(self, value):\n",
    "        self.value = value\n",
    "        self.next = None\n",
    "        \n",
    "\n",
    "class Queue:\n",
    "    def __init__(self, value):\n",
    "        new_node = Node(value)\n",
    "        self.first = new_node\n",
    "        self.last = new_node\n",
    "        self.length = 1\n",
    "\n",
    "    def print_queue(self):\n",
    "        temp = self.first\n",
    "        while temp is not None:\n",
    "            print(temp.value)\n",
    "            temp = temp.next\n",
    "        \n",
    "    def enqueue(self, value):\n",
    "        node = Node(value)\n",
    "        if self.length == 0:\n",
    "            self.first = node\n",
    "            self.last = node\n",
    "            self.length = 1\n",
    "        else:\n",
    "            self.last.next = node\n",
    "            self.last = node\n",
    "            self.length += 1\n",
    "        return True\n",
    "\n",
    "\n",
    "\n",
    "\n",
    "my_queue = Queue(1)\n",
    "\n",
    "print('Queue before enqueue(2):')\n",
    "my_queue.print_queue()\n",
    "\n",
    "my_queue.enqueue(2)\n",
    "\n",
    "print('\\nQueue after enqueue(2):')\n",
    "my_queue.print_queue()\n",
    "\n",
    "\n",
    "\n",
    "\"\"\"\n",
    "    EXPECTED OUTPUT:\n",
    "    ----------------\n",
    "    Queue before enqueue(2):\n",
    "    1\n",
    "\n",
    "    Queue after enqueue(2):\n",
    "    1\n",
    "    2\n",
    "\n",
    "\"\"\""
   ]
  },
  {
   "cell_type": "markdown",
   "metadata": {},
   "source": [
    "# dequeue\n"
   ]
  },
  {
   "cell_type": "code",
   "execution_count": 14,
   "metadata": {},
   "outputs": [
    {
     "name": "stdout",
     "output_type": "stream",
     "text": [
      "1\n",
      "2\n",
      "None\n"
     ]
    },
    {
     "data": {
      "text/plain": [
       "'\\n    EXPECTED OUTPUT:\\n    ----------------\\n    1\\n    2\\n    None\\n\\n'"
      ]
     },
     "execution_count": 14,
     "metadata": {},
     "output_type": "execute_result"
    }
   ],
   "source": [
    "class Node:\n",
    "    def __init__(self, value):\n",
    "        self.value = value\n",
    "        self.next = None\n",
    "        \n",
    "\n",
    "class Queue:\n",
    "    def __init__(self, value):\n",
    "        new_node = Node(value)\n",
    "        self.first = new_node\n",
    "        self.last = new_node\n",
    "        self.length = 1\n",
    "\n",
    "    def print_queue(self):\n",
    "        temp = self.first\n",
    "        while temp is not None:\n",
    "            print(temp.value)\n",
    "            temp = temp.next\n",
    "        \n",
    "    def enqueue(self, value):\n",
    "        new_node = Node(value)\n",
    "        if self.first is None:\n",
    "            self.first = new_node\n",
    "            self.last = new_node\n",
    "        else:\n",
    "            self.last.next = new_node\n",
    "            self.last = new_node\n",
    "        self.length += 1\n",
    "        return True\n",
    "\n",
    "    def dequeue(self):\n",
    "        if self.length == 0:\n",
    "            return None\n",
    "        elif self.length == 1:\n",
    "            node = self.first\n",
    "            self.first = None\n",
    "            self.last = None\n",
    "            self.length = 0\n",
    "            return node\n",
    "        else:\n",
    "            node = self.first\n",
    "            self.first = self.first.next\n",
    "            node.next = None\n",
    "            self.length -= 1\n",
    "            return node\n",
    "\n",
    "\n",
    "\n",
    "my_queue = Queue(1)\n",
    "my_queue.enqueue(2)\n",
    "\n",
    "# (2) Items - Returns 2 Node\n",
    "print(my_queue.dequeue().value)\n",
    "# (1) Item -  Returns 1 Node\n",
    "print(my_queue.dequeue().value)\n",
    "# (0) Items - Returns None\n",
    "print(my_queue.dequeue())\n",
    "\n",
    "\n",
    "\n",
    "\"\"\"\n",
    "    EXPECTED OUTPUT:\n",
    "    ----------------\n",
    "    1\n",
    "    2\n",
    "    None\n",
    "\n",
    "\"\"\""
   ]
  }
 ],
 "metadata": {
  "kernelspec": {
   "display_name": "Python 3",
   "language": "python",
   "name": "python3"
  },
  "language_info": {
   "codemirror_mode": {
    "name": "ipython",
    "version": 3
   },
   "file_extension": ".py",
   "mimetype": "text/x-python",
   "name": "python",
   "nbconvert_exporter": "python",
   "pygments_lexer": "ipython3",
   "version": "3.10.12"
  }
 },
 "nbformat": 4,
 "nbformat_minor": 2
}
